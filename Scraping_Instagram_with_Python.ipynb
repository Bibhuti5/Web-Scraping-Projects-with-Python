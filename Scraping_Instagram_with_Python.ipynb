{
  "nbformat": 4,
  "nbformat_minor": 0,
  "metadata": {
    "colab": {
      "name": "Scraping Instagram with Python",
      "provenance": [],
      "collapsed_sections": []
    },
    "kernelspec": {
      "name": "python3",
      "display_name": "Python 3"
    },
    "language_info": {
      "name": "python"
    }
  },
  "cells": [
    {
      "cell_type": "markdown",
      "metadata": {
        "id": "6eMe-ICI9VWt"
      },
      "source": [
        "You must have seen many articles and tutorials on web scraping. Even I have written an article on it. In this article, I will do something different, that is scraping Instagram with Python. It is an easy task until you get errors in writing your usernames and passwords. Here I will show you some techniques that will help you in scraping Instagram with Python in a much easy way.\n",
        "\n",
        "To scrap Instagram, we will use a library know as instaloader which provides us with an API for scraping Instagram. You can install this library by using the pip method in your terminal – pip install instaloader. Now If you have installed this package then let’s get started with the task.\n",
        "\n",
        "# Scraping Instagram with Python\n",
        "\n",
        "First of all, if you are learning Data Science then scraping Instagram will help you in getting the new trends of businesses, so that you can generate more leads and can reach out for your new potential customers. Now let’s start with scraping Instagram users profiles:"
      ]
    },
    {
      "cell_type": "code",
      "metadata": {
        "colab": {
          "base_uri": "https://localhost:8080/"
        },
        "id": "zvwKH9wr8ofh",
        "outputId": "3f7e7d3d-fa46-41cc-ff7a-6b4df82b42aa"
      },
      "source": [
        "pip install instaloader"
      ],
      "execution_count": 30,
      "outputs": [
        {
          "output_type": "stream",
          "text": [
            "Collecting instaloader\n",
            "  Downloading instaloader-4.7.5.tar.gz (50 kB)\n",
            "\u001b[?25l\r\u001b[K     |██████▌                         | 10 kB 21.5 MB/s eta 0:00:01\r\u001b[K     |█████████████                   | 20 kB 25.2 MB/s eta 0:00:01\r\u001b[K     |███████████████████▍            | 30 kB 31.1 MB/s eta 0:00:01\r\u001b[K     |█████████████████████████▉      | 40 kB 24.4 MB/s eta 0:00:01\r\u001b[K     |████████████████████████████████| 50 kB 4.2 MB/s \n",
            "\u001b[?25hRequirement already satisfied: requests>=2.4 in /usr/local/lib/python3.7/dist-packages (from instaloader) (2.23.0)\n",
            "Requirement already satisfied: chardet<4,>=3.0.2 in /usr/local/lib/python3.7/dist-packages (from requests>=2.4->instaloader) (3.0.4)\n",
            "Requirement already satisfied: idna<3,>=2.5 in /usr/local/lib/python3.7/dist-packages (from requests>=2.4->instaloader) (2.10)\n",
            "Requirement already satisfied: urllib3!=1.25.0,!=1.25.1,<1.26,>=1.21.1 in /usr/local/lib/python3.7/dist-packages (from requests>=2.4->instaloader) (1.24.3)\n",
            "Requirement already satisfied: certifi>=2017.4.17 in /usr/local/lib/python3.7/dist-packages (from requests>=2.4->instaloader) (2021.5.30)\n",
            "Building wheels for collected packages: instaloader\n",
            "  Building wheel for instaloader (setup.py) ... \u001b[?25l\u001b[?25hdone\n",
            "  Created wheel for instaloader: filename=instaloader-4.7.5-py3-none-any.whl size=54780 sha256=84ae7001c8ccac1e18a5db10d1bbbe4d1ddf66321618a51d36db7495eaeb38f1\n",
            "  Stored in directory: /root/.cache/pip/wheels/77/03/fb/845988ad92b0bede7c99ac693c96cd880dfac9848a49260424\n",
            "Successfully built instaloader\n",
            "Installing collected packages: instaloader\n",
            "Successfully installed instaloader-4.7.5\n"
          ],
          "name": "stdout"
        }
      ]
    },
    {
      "cell_type": "code",
      "metadata": {
        "colab": {
          "base_uri": "https://localhost:8080/"
        },
        "id": "On18XSyG90u-",
        "outputId": "d380aa91-3b9b-4471-aeae-ffb18d931117"
      },
      "source": [
        "# Import the module\n",
        "import instaloader\n",
        "\n",
        "# Create an instance of Instaloader class\n",
        "bot = instaloader.Instaloader()\n",
        "\n",
        "# Load a profile from an Instagram handle\n",
        "profile = instaloader.Profile.from_username(bot.context, '0_bibhuti')\n",
        "\n",
        "print(type(profile))"
      ],
      "execution_count": 36,
      "outputs": [
        {
          "output_type": "stream",
          "text": [
            "<class 'instaloader.structures.Profile'>\n"
          ],
          "name": "stdout"
        }
      ]
    },
    {
      "cell_type": "markdown",
      "metadata": {
        "id": "Jt-e2J9b-bvz"
      },
      "source": [
        "Now let’s see how we can extract some valuable information from an Instagram profile:\n",
        "\n",
        "\n"
      ]
    },
    {
      "cell_type": "code",
      "metadata": {
        "colab": {
          "base_uri": "https://localhost:8080/"
        },
        "id": "mUQdEmCz-YFR",
        "outputId": "59cb98f6-9f59-4b48-dbbe-aca0b1b36418"
      },
      "source": [
        "print(\"Username:\",profile.username)\n",
        "print(\"User ID:\",profile.userid)\n",
        "print(\"Number of Posts:\",profile.mediacount)\n",
        "print(\"Followers: \",profile.followers)\n",
        "print(\"Followees: \",profile.followees)\n",
        "print(\"Bio: \",profile.biography,profile.external_url)"
      ],
      "execution_count": 37,
      "outputs": [
        {
          "output_type": "stream",
          "text": [
            "Username: 0_bibhuti\n",
            "User ID: 8745648704\n",
            "Number of Posts: 80\n",
            "Followers:  226\n",
            "Followees:  195\n",
            "Bio:  There will come a time when you believe everything is finished.\n",
            "That will be  THE B E G I N N I N G None\n"
          ],
          "name": "stdout"
        }
      ]
    },
    {
      "cell_type": "markdown",
      "metadata": {
        "id": "ojltGMW9INwu"
      },
      "source": [
        "Now let’s see how you can log in to your Instagram profile using python:"
      ]
    },
    {
      "cell_type": "code",
      "metadata": {
        "colab": {
          "base_uri": "https://localhost:8080/"
        },
        "id": "Kltr4h7n-e3O",
        "outputId": "3fe370eb-6771-4d44-ebd8-e616e850ce67"
      },
      "source": [
        "# Login with username and password in the script\n",
        "bot.login(user=\"wright username\",passwd=\"wright password\")\n",
        "\n",
        "# Interactive login on terminal\n",
        "bot.interactive_login(\"0_bibhuti\") # Asks for password in the terminal"
      ],
      "execution_count": 44,
      "outputs": [
        {
          "output_type": "stream",
          "text": [
            "Enter Instagram password for 0_bibhuti: ··········\n"
          ],
          "name": "stdout"
        }
      ]
    },
    {
      "cell_type": "markdown",
      "metadata": {
        "id": "U8BtOVTRJEsF"
      },
      "source": [
        "You will think, why you logged in? Logging in was very important for a lot of methods that we are going to explore further.\n",
        "\n",
        "# Scraping Instagram Followers and Followees\n",
        "\n",
        "Scraping your followers and followees will help you in getting a list of their usernames, which you will require to do when you will work in a professional environment in the data science field:"
      ]
    },
    {
      "cell_type": "code",
      "metadata": {
        "colab": {
          "base_uri": "https://localhost:8080/"
        },
        "id": "NBe2YwZl-hY4",
        "outputId": "aed09d03-4652-4e8f-e6db-0681e6566ec6"
      },
      "source": [
        "# Retrieve the usernames of all followers\n",
        "followers = [follower.username for follower in profile.get_followers()]\n",
        "\n",
        "# Retrieve the usernames of all followees\n",
        "followees = [followee.username for followee in profile.get_followees()]\n",
        "print(followers)"
      ],
      "execution_count": 45,
      "outputs": [
        {
          "output_type": "stream",
          "text": [
            "['sabitasahoo842', 'srikanta7433', 'x_stylish_santosh_1458', 'saijyotinayak3', '__its_rk', 'saumyaranjan408', 'dash_rupam', 'gyanaranjanapradhan', 'premsagar_patra_15', 'biswajitsahoobabu', 'paltapashranjan', 'anisa_malla', 'mahapatra1669', 'biswajitsingh15', 'jogamaya.mishra', 'shasanka__', 'smrutiranjan_1999', 'su_rya2723', 'pratik__biswal', 'bablu1433314333', 'ashutosh_panda_22', 'senapatidebidatta', 'bibhu302', 'gst_official.32', 'sourava_pattanayak', 'digbijaynayak', 'snehasis_pupun', 'lunatic_ansu', 'bs_chintu_07', '_rock_rk', 'sachi_kanta_das_10_28', 'savuthrima', 'khuntiarasmiranjan', 'lipun9126', 'ar_with_mkr', 'adityalenka.2', 'deepakkumarpatra90', 'anuranjitakund', 'bichitra189', 'rajasince_1998', 'bikash_7734', 'biswajit_1999', 'deepakbhoi79', 'debidattasena', 'rimreee21', 'biebs_lover_bubu', 'priyabrata.rout.7798', 'behera.to', 'rajesh.8084.50364', 'swain_sangram1', 'sayed_samser12', 'raja.gochhayat.334', 'hemantakumarbehura', 'perfectclick_001', 'shrishti__91', 'simaranirout9', 'beherakaramjit', 'soule__break', 'mayerclassiccars', 'kunadebata', 'swaindurgaprasad46', 'saga_r1711', 'bubu_cool1', 'jit_biswa_45', 'iamkrishnainsta', 'asu5432', 'diptiranjan8508', 'rupenadhikari', 'teachingclassesvs', 'sidhantakumarprad', 'bikramlipu44', 'iamaswinibehera', 'born_to_ride_22o', '_rajib_98', 'raja.gochhayat.581', 'riya._5', 'pranav_parker', 'amishka_jay', 'apurwa63', 'smrutiranjanpa', 'parkash00', '_praajuu_', 'chinmayakhatei', 'pritam_samantaray_', 'rout5398', 'sameersahoo81', 'eyedipti', 'chinmaydebashis', '_abhijit__behera_', '1babulbehera2019', 'kayum7274', 'amulyakumar70', 'i_am_basu07', '_mr_.extinct._', 'neeleshmohanty', '_villain_440v', 'ojha3849', 'p_b_parida_litwo', 'lovely.kandhei.10', 'jagabandhu_dipu', 'somu.78l', 'saumyaranjan_baral', 'ethereum_suresh1313', 'ashutosh_sahoo10', 'tapan.tk', 'udayakumarroutroy', 'zokhan4716', 'jajneswar_biswal', 'lipun_1998', 'lucky_hanjii', 'chandankumarroutray', 'im_cheeku3', 'nbehuria', 'prayag_srinivas', 'niranjansahoo31', 's_o_u_.m_y_a', 'sipubiswajit8', 'badalkumar.mahanta', '18abhishekswain', 'pabitrabhoipapuna', 'healonhand', 'rex_hrx', '_official_chirag_r_joshi_3993', 'jagannathsahoomuna', 'amvlogs07', '45_rapu', 'itz_manoranjan', 'im_surajkumar_likun', 'teraherolis', 'priyanka.priyadarshini.1804', 'chandankusahoo1227', 'bikash_279', 'suvamcomputers', 'dipusomanath', 'ashis.swain.925', 'ladlaa_raja', 'amulyart', 'debidattakarsharma', 'samanta.nirmalya', 'mediafourth', 'sidhartha79', '_c.i.t.a.t.e_d.i.n_i.n.i.m.a', '____salman_shah', 'prajwal922', '_cristaino__ronaldo', 'hov_shop', 'pictures_incredible', 'satya_brata_likun', 'jj_coded_jewellery', 'allu_arjun_100k', 'top_ukraine_girls__', 'nrusinghanathpatro', 'papulu_1', '_______deep_001', 'kanti.meena.7505', 'cellrepairgeek', 'ms_sonu90', 'with_namo_2019', 'hasnain_07dz_fanclub', 'kritisanon_look', 'love_me_like_u_do_bae7', 'sr_and_sp', 'narmin.5_', 'brandfactory9090', 'subhrajit.494', 'santosh_kumar096', 'riku_pandit_', 'brockdeepak', 'rakeshsahoo408', 'pro_king.p', 's_satya2000', 'iamsandipandas', 'ghost____jr', 'chintusahoochintu', 'pradip.pkr', 'abhilash__mishra', 'jiten_kumar_swain', 'pankajkumar.__', 'purnendu_pradhan', 'm___manoranjan', 'nirmalyabehuria1998', 'u._.t._.k._.a._.l', 'idtusharkanta', 'sudhansu28feb', 'i_m__satya', 'xquzy_khitish', 'ratiranjanjena', 'jrmoharana', 'somanathmallick12345', 'mano.r.siva', 'madhusudansatapat', 'lalusaumyaranjan', 'kahnu_charan_swain04', 'iampulak7', 'dksahoo.143', 'stark_jr_s_k_b', 'amulyakumar1684', 'alone__king__kaushik', 'satyaranjanpanda143', 'abhisek.mohapatra.146', 'gayatapaskumar', 'ranjaya_kumar', 'mo_name_babu', 'sachin.sahoo.39', 'gyanararanjan._parida', 'bibhudatta47', 'sk_tapu', 's_a_m_a_l_b_a_b_u', 'dibyajyotipathy', 'biswaranjan2301', 'sidharth.rout', 'stylookingsagara', 'sunilpradhan1437', 'toxic_tapas', 'rock_boy_smruti', '1bakeshopphulnakhara', 'sambitkumarrautra', 'sbsubrat', 'bigyan_empire', 'aapka_dost_raja', 'sagar_moharana', 'bijaykumardas106', 'niranjan.sahoo.739326', 'daring_subhransu', 'aswinik1996', 'somanath_mallick_balia']\n"
          ],
          "name": "stdout"
        }
      ]
    },
    {
      "cell_type": "markdown",
      "metadata": {
        "id": "cAkvbLrOK5iw"
      },
      "source": [
        "#Downloading Posts from Another Profile\n",
        "Getting posts from any profile is easy in python. We just need to use get_posts(). I will this method on the profile of someone else. To download each post, we need to loop over the generator object using .download_post() method. Now let’s go through this:"
      ]
    },
    {
      "cell_type": "code",
      "metadata": {
        "colab": {
          "base_uri": "https://localhost:8080/",
          "height": 1000
        },
        "id": "7MuSAGk6JLdH",
        "outputId": "672db6b7-bd5e-4730-afa7-b948feb3927f"
      },
      "source": [
        "# Load a new profile\n",
        "profile = instaloader.Profile.from_username(bot.context, 'wwe')\n",
        "\n",
        "# Get all posts in a generator object\n",
        "posts = profile.get_posts()\n",
        "\n",
        "# Iterate and download\n",
        "for index, post in enumerate(posts, 1):\n",
        "    bot.download_post(post, target=f\"{profile.username}_{index}\")"
      ],
      "execution_count": 46,
      "outputs": [
        {
          "output_type": "stream",
          "text": [
            "wwe_1/2021-07-31_03-47-06_UTC.jpg [Acknowledge him. Acknowledge …] json \n",
            "wwe_2/2021-07-31_03-20-15_UTC.jpg [Earn the day 👊 #SmackDown @jo…] json \n",
            "wwe_3/2021-07-31_02-45-30_UTC.jpg [Signed. Sealed. Delivered! @j…] wwe_3/2021-07-31_02-45-30_UTC.mp4 json \n",
            "wwe_4/2021-07-31_02-01-43_UTC_1.jpg wwe_4/2021-07-31_02-01-43_UTC_2.jpg [The Boss doesn’t forget anyth…] json \n",
            "wwe_5/2021-07-31_01-42-32_UTC.jpg [@wwerollins unleashed a vicio…] json \n",
            "wwe_6/2021-07-31_01-34-08_UTC_1.jpg wwe_6/2021-07-31_01-34-08_UTC_2.jpg [King @shinsukenakamura pins @…] json \n",
            "wwe_7/2021-07-31_01-26-15_UTC_1.jpg wwe_7/2021-07-31_01-26-15_UTC_2.jpg wwe_7/2021-07-31_01-26-15_UTC_3.jpg wwe_7/2021-07-31_01-26-15_UTC_4.jpg [😳😳😳😳 #SmackDown] json \n",
            "wwe_8/2021-07-31_01-18-08_UTC.jpg [Your official #SummerSlam pos…] json \n",
            "wwe_9/2021-07-31_00-50-49_UTC.jpg [@sashabankswwe returns to #Sm…] wwe_9/2021-07-31_00-50-49_UTC.mp4 json \n",
            "wwe_10/2021-07-31_00-48-47_UTC_1.jpg wwe_10/2021-07-31_00-48-47_UTC_2.jpg [THE BOSS IS BACK!! @sashabank…] json \n",
            "wwe_11/2021-07-31_00-36-13_UTC.jpg [@619iamlucha leaves #SmackDow…] json \n",
            "wwe_12/2021-07-31_00-21-01_UTC.jpg [Note to @baroncorbinwwe…don’t…] wwe_12/2021-07-31_00-21-01_UTC.mp4 json \n",
            "wwe_13/2021-07-30_22-16-00_UTC.jpg [Could @finnbalor get his hand…] wwe_13/2021-07-30_22-16-00_UTC.mp4 json \n",
            "wwe_14/2021-07-30_21-25-18_UTC.jpg [The Prin❌e @finnbalor is read…] wwe_14/2021-07-30_21-25-18_UTC.mp4 json \n",
            "wwe_15/2021-07-30_20-55-42_UTC.jpg [@wwerollins with a spot-on Ca…] wwe_15/2021-07-30_20-55-42_UTC.mp4 json \n",
            "wwe_16/2021-07-30_20-26-18_UTC.jpg [Amazing tandem offense from @…] wwe_16/2021-07-30_20-26-18_UTC.mp4 json \n",
            "wwe_17/2021-07-30_16-37-18_UTC.jpg [Happy birthday to @schwarzene…] wwe_17/2021-07-30_16-37-18_UTC.mp4 json \n",
            "wwe_18/2021-07-30_14-00-18_UTC.jpg [7️⃣-time Tag Team Champions #…] json \n",
            "wwe_19/2021-07-29_19-00-15_UTC.jpg [Whose Jackhammer is the best:…] wwe_19/2021-07-29_19-00-15_UTC.mp4 json \n",
            "wwe_20/2021-07-29_18-00-15_UTC.jpg [@bobbylashley couldn't hide h…] wwe_20/2021-07-29_18-00-15_UTC.mp4 json \n",
            "wwe_21/2021-07-29_17-02-05_UTC.jpg [🔈 Oh, how we've missed the sw…] wwe_21/2021-07-29_17-02-05_UTC.mp4 json \n",
            "wwe_22/2021-07-29_14-30-43_UTC.jpg [This is #LillyLution.   @alex…] wwe_22/2021-07-29_14-30-43_UTC.mp4 json \n",
            "wwe_23/2021-07-29_13-14-03_UTC.jpg [Don’t miss this week’s #WWEMa…] wwe_23/2021-07-29_13-14-03_UTC.mp4 json \n",
            "wwe_24/2021-07-29_13-00-15_UTC.jpg [\"But the tank! His groin.! It…] wwe_24/2021-07-29_13-00-15_UTC.mp4 json \n",
            "wwe_25/2021-07-28_21-03-20_UTC.jpg [Tag your pick below! ⤵] json \n",
            "wwe_26/2021-07-28_19-32-32_UTC.jpg [#247Champion @reginald.wwe kn…] wwe_26/2021-07-28_19-32-32_UTC.mp4 json \n",
            "wwe_27/2021-07-28_19-01-41_UTC.jpg [#SmackDown’s newest tag team,…] wwe_27/2021-07-28_19-01-41_UTC.mp4 json \n",
            "wwe_28/2021-07-28_19-00-14_UTC.jpg [Is this @finnbalor’s time? #S…] json \n",
            "wwe_29/2021-07-28_18-00-44_UTC_1.jpg wwe_29/2021-07-28_18-00-44_UTC_2.jpg wwe_29/2021-07-28_18-00-44_UTC_3.jpg wwe_29/2021-07-28_18-00-44_UTC_4.jpg wwe_29/2021-07-28_18-00-44_UTC_5.jpg [Check out our Story for a nev…] json \n",
            "wwe_30/2021-07-28_17-00-42_UTC.jpg [That new @johncena theme musi…] wwe_30/2021-07-28_17-00-42_UTC.mp4 json \n",
            "wwe_31/2021-07-28_15-00-15_UTC.jpg [Important words to live by fr…] wwe_31/2021-07-28_15-00-15_UTC.mp4 json \n",
            "wwe_32/2021-07-28_13-02-05_UTC.jpg [That look at the end   @roman…] wwe_32/2021-07-28_13-02-05_UTC.mp4 json \n",
            "wwe_33/2021-07-28_02-09-26_UTC.jpg [@adamcolepro takes down @bron…] json \n",
            "wwe_34/2021-07-28_01-07-37_UTC.jpg [Looks like @raquelwwe’s bigge…] json \n",
            "wwe_35/2021-07-28_00-33-54_UTC_1.jpg wwe_35/2021-07-28_00-33-54_UTC_2.jpg [#WilliamRegal makes it offici…] json \n",
            "wwe_36/2021-07-27_21-55-38_UTC.jpg [Heartbreaking moment for @rid…] wwe_36/2021-07-27_21-55-38_UTC.mp4 json \n",
            "wwe_37/2021-07-27_21-19-17_UTC.jpg [A moment @nikkicrosswwe will …] wwe_37/2021-07-27_21-19-17_UTC.mp4 json \n",
            "wwe_38/2021-07-27_21-00-36_UTC_1.jpg wwe_38/2021-07-27_21-00-36_UTC_2.jpg wwe_38/2021-07-27_21-00-36_UTC_3.jpg wwe_38/2021-07-27_21-00-36_UTC_4.jpg wwe_38/2021-07-27_21-00-36_UTC_5.jpg wwe_38/2021-07-27_21-00-36_UTC_6.jpg wwe_38/2021-07-27_21-00-36_UTC_7.jpg [TONIGHT on #wwenxt on @syfy  …] json \n",
            "wwe_39/2021-07-27_19-01-30_UTC.jpg [Unable to pay his bills or af…] wwe_39/2021-07-27_19-01-30_UTC.mp4 json \n",
            "wwe_40/2021-07-27_18-00-18_UTC.jpg [#WWERAW Women's Champion Nikk…] json \n",
            "wwe_41/2021-07-27_17-02-04_UTC.jpg [Happy birthday @tripleh! Comm…] wwe_41/2021-07-27_17-02-04_UTC.mp4 json \n",
            "wwe_42/2021-07-27_15-00-12_UTC.jpg [Showin' off on his birthday. …] json \n",
            "wwe_43/2021-07-27_14-02-13_UTC.jpg [A determined @charlottewwe PI…] wwe_43/2021-07-27_14-02-13_UTC.mp4 json \n",
            "wwe_44/2021-07-27_13-30-47_UTC_1.jpg wwe_44/2021-07-27_13-30-47_UTC_2.jpg wwe_44/2021-07-27_13-30-47_UTC_3.jpg wwe_44/2021-07-27_13-30-47_UTC_4.jpg wwe_44/2021-07-27_13-30-47_UTC_5.jpg wwe_44/2021-07-27_13-30-47_UTC_6.jpg wwe_44/2021-07-27_13-30-47_UTC_7.jpg wwe_44/2021-07-27_13-30-47_UTC_8.jpg wwe_44/2021-07-27_13-30-47_UTC_9.jpg wwe_44/2021-07-27_13-30-47_UTC_10.jpg [It's time to CELEBRATE #TheGa…] json \n",
            "wwe_45/2021-07-27_13-00-42_UTC.jpg [\"Want some? Come get some.\" -…] wwe_45/2021-07-27_13-00-42_UTC.mp4 json \n",
            "wwe_46/2021-07-27_12-00-42_UTC.jpg [POWER and AGILITY are the key…] wwe_46/2021-07-27_12-00-42_UTC.mp4 json \n",
            "wwe_47/2021-07-27_04-15-20_UTC.jpg [The #WWERaw #WomensTitle will…] json \n",
            "wwe_48/2021-07-27_03-41-45_UTC.jpg [Message sent. The All Mighty …] wwe_48/2021-07-27_03-41-45_UTC.mp4 json \n",
            "wwe_49/2021-07-27_03-07-37_UTC_1.jpg wwe_49/2021-07-27_03-07-37_UTC_2.jpg wwe_49/2021-07-27_03-07-37_UTC_3.jpg wwe_49/2021-07-27_03-07-37_UTC_4.jpg wwe_49/2021-07-27_03-07-37_UTC_5.jpg [@charlottewwe defeats @nikkic…] json \n",
            "wwe_50/2021-07-27_02-42-37_UTC.jpg [Can anyone catch the 24/7 Cha…] wwe_50/2021-07-27_02-42-37_UTC.mp4 json \n",
            "wwe_51/2021-07-27_02-07-14_UTC.jpg [@bobbylashley has come to #Ka…] wwe_51/2021-07-27_02-07-14_UTC.mp4 json \n",
            "wwe_52/2021-07-27_01-57-49_UTC_1.jpg wwe_52/2021-07-27_01-57-49_UTC_2.jpg [Did the student just become t…] json \n",
            "wwe_53/2021-07-27_01-43-01_UTC_1.jpg wwe_53/2021-07-27_01-43-01_UTC_2.jpg [@wwekarrionkross picks up his…] json \n",
            "wwe_54/2021-07-27_01-20-13_UTC.jpg [@dmcintyrewwe takes out @jind…] json \n",
            "wwe_55/2021-07-27_00-55-35_UTC.jpg [#AndStill your #WWERaw Tag-Te…] json \n",
            "wwe_56/2021-07-27_00-42-45_UTC_1.jpg wwe_56/2021-07-27_00-42-45_UTC_2.jpg wwe_56/2021-07-27_00-42-45_UTC_3.jpg [@archerofinfamy defeats @wwes…] json \n",
            "wwe_57/2021-07-27_00-22-58_UTC_1.jpg wwe_57/2021-07-27_00-22-58_UTC_2.jpg [@charlottewwe and @rhearipley…] json \n",
            "wwe_58/2021-07-26_23-58-16_UTC.jpg [Will the #VikingRaiders walk …] wwe_58/2021-07-26_23-58-16_UTC.mp4 json \n",
            "wwe_59/2021-07-26_22-32-10_UTC_1.jpg wwe_59/2021-07-26_22-32-10_UTC_2.jpg [@nikkicrosswwe has her brand …] json \n",
            "wwe_60/2021-07-26_19-02-26_UTC.jpg [It all started with the very …] json \n",
            "wwe_61/2021-07-26_17-50-59_UTC.jpg [Good luck catching the new 24…] wwe_61/2021-07-26_17-50-59_UTC.mp4 json \n",
            "wwe_62/2021-07-26_14-53-55_UTC_1.jpg wwe_62/2021-07-26_14-53-55_UTC_2.jpg wwe_62/2021-07-26_14-53-55_UTC_3.jpg [Swipe to see @dilsher.shanky’…] json \n",
            "wwe_63/2021-07-26_13-00-19_UTC.jpg [Happy 1 week anniversary @nik…] json \n",
            "wwe_64/2021-07-26_11-00-15_UTC.jpg [Tajiri had an unconventional …] wwe_64/2021-07-26_11-00-15_UTC.mp4 json \n",
            "wwe_65/2021-07-26_01-33-01_UTC.jpg [#TheBloodline #WWELouisville …] json \n",
            "wwe_66/2021-07-26_00-44-35_UTC_1.jpg wwe_66/2021-07-26_00-44-35_UTC_2.jpg [Will @ajstylesp1 & @thegianto…] json \n",
            "wwe_67/2021-07-25_23-45-20_UTC.jpg [@dmcintyrewwe has a message f…] wwe_67/2021-07-25_23-45-20_UTC.mp4 json \n",
            "wwe_68/2021-07-25_22-00-12_UTC_1.jpg wwe_68/2021-07-25_22-00-12_UTC_2.jpg wwe_68/2021-07-25_22-00-12_UTC_3.jpg [TOMORROW NIGHT on #WWERaw   H…] json \n",
            "wwe_69/2021-07-25_21-00-15_UTC.jpg [@reginald.wwe 💔 @niajaxwwe] wwe_69/2021-07-25_21-00-15_UTC.mp4 json \n",
            "wwe_70/2021-07-25_20-00-15_UTC.jpg [Who flings a shoe?! 👡   @char…] wwe_70/2021-07-25_20-00-15_UTC.mp4 json \n",
            "wwe_71/2021-07-25_19-00-15_UTC.jpg [Hey Mandyyyyyy! @mandysacs #w…] json \n",
            "wwe_72/2021-07-25_18-00-43_UTC.jpg [@finnbalor took down @samizay…] wwe_72/2021-07-25_18-00-43_UTC.mp4 json \n",
            "wwe_73/2021-07-25_16-43-45_UTC.jpg [“Yay….” @alexa_bliss_wwe_ #ww…] wwe_73/2021-07-25_16-43-45_UTC.mp4 json \n",
            "wwe_74/2021-07-25_15-50-27_UTC.jpg [@biancabelairwwe and the #Str…] wwe_74/2021-07-25_15-50-27_UTC.mp4 json \n",
            "wwe_75/2021-07-25_15-00-08_UTC.jpg [Happy birthday to The Prin❌e,…] json \n",
            "wwe_76/2021-07-25_14-01-03_UTC.jpg [The #SummerOfCena continues t…] wwe_76/2021-07-25_14-01-03_UTC.mp4 json \n",
            "wwe_77/2021-07-25_11-00-43_UTC.jpg [Little known fact, @davebauti…] wwe_77/2021-07-25_11-00-43_UTC.mp4 json \n",
            "wwe_78/2021-07-25_02-46-03_UTC.jpg [What a night for Nikki A.S. H…] json \n",
            "wwe_79/2021-07-25_01-43-49_UTC.jpg [@riddlebro sends his greeting…] json \n",
            "wwe_80/2021-07-25_01-03-15_UTC.jpg [The most beautiful woman in a…] json \n",
            "wwe_81/2021-07-25_00-33-41_UTC.jpg [The #WWEChampion @bobbylashle…] json \n",
            "wwe_82/2021-07-24_21-00-42_UTC.jpg [#AndSTILL!💋 @biancabelairwwe …] wwe_82/2021-07-24_21-00-42_UTC.mp4 json \n",
            "wwe_83/2021-07-24_19-55-05_UTC.jpg [@jaxsonrykerwwe was unhinged …] wwe_83/2021-07-24_19-55-05_UTC.mp4 json \n",
            "wwe_84/2021-07-24_19-00-42_UTC.jpg [@edgeratedr was DONE listenin…] wwe_84/2021-07-24_19-00-42_UTC.mp4 json \n",
            "wwe_85/2021-07-24_16-09-06_UTC.jpg [Sneaky strategy by @riddlebro…] wwe_85/2021-07-24_16-09-06_UTC.mp4 json \n",
            "wwe_86/2021-07-24_15-03-34_UTC_1.jpg wwe_86/2021-07-24_15-03-34_UTC_2.jpg wwe_86/2021-07-24_15-03-34_UTC_3.jpg wwe_86/2021-07-24_15-03-34_UTC_4.jpg wwe_86/2021-07-24_15-03-34_UTC_5.jpg wwe_86/2021-07-24_15-03-34_UTC_6.jpg wwe_86/2021-07-24_15-03-34_UTC_7.jpg wwe_86/2021-07-24_15-03-34_UTC_8.jpg [WWE is proud of @TitusONeilWW…] json \n",
            "wwe_87/2021-07-24_15-00-14_UTC.jpg [#WWEMilwaukee NEEDS a battle …] json \n",
            "wwe_88/2021-07-24_14-19-46_UTC_1.jpg wwe_88/2021-07-24_14-19-46_UTC_2.jpg wwe_88/2021-07-24_14-19-46_UTC_3.jpg wwe_88/2021-07-24_14-19-46_UTC_4.jpg wwe_88/2021-07-24_14-19-46_UTC_5.jpg wwe_88/2021-07-24_14-19-46_UTC_6.jpg wwe_88/2021-07-24_14-19-46_UTC_7.jpg wwe_88/2021-07-24_14-19-46_UTC_8.jpg [Acknowledge your cousin today…] json \n",
            "wwe_89/2021-07-24_13-00-45_UTC_1.jpg wwe_89/2021-07-24_13-00-45_UTC_2.jpg [Monday on #WWERaw!  👀 @bobbyl…] json \n",
            "wwe_90/2021-07-24_13-00-39_UTC.jpg [Happy birthday to one-half of…] json \n",
            "wwe_91/2021-07-24_11-00-43_UTC.jpg [Keep @tripleh away from the O…] wwe_91/2021-07-24_11-00-43_UTC.mp4 json \n",
            "wwe_92/2021-07-24_03-57-01_UTC.jpg [Back on the blue brand! #Smac…] json \n",
            "wwe_93/2021-07-24_02-40-47_UTC.jpg [“The CHAMP. IS. HERE!!!” @joh…] wwe_93/2021-07-24_02-40-47_UTC.mp4 json \n",
            "wwe_94/2021-07-24_02-06-45_UTC.jpg [“Challenge accepted!” @finnba…] json \n",
            "wwe_95/2021-07-24_01-58-04_UTC.jpg [#TheUsos celebrate after #Jim…] json \n",
            "wwe_96/2021-07-24_01-55-11_UTC.jpg [As announced by @traeyoung, W…] json \n",
            "wwe_97/2021-07-24_01-43-09_UTC.jpg [Looks like there’s a @tonisto…] json \n"
          ],
          "name": "stdout"
        },
        {
          "output_type": "error",
          "ename": "KeyboardInterrupt",
          "evalue": "ignored",
          "traceback": [
            "\u001b[0;31m---------------------------------------------------------------------------\u001b[0m",
            "\u001b[0;31mKeyboardInterrupt\u001b[0m                         Traceback (most recent call last)",
            "\u001b[0;32m<ipython-input-46-a12c0e352c97>\u001b[0m in \u001b[0;36m<module>\u001b[0;34m()\u001b[0m\n\u001b[1;32m      7\u001b[0m \u001b[0;31m# Iterate and download\u001b[0m\u001b[0;34m\u001b[0m\u001b[0;34m\u001b[0m\u001b[0;34m\u001b[0m\u001b[0m\n\u001b[1;32m      8\u001b[0m \u001b[0;32mfor\u001b[0m \u001b[0mindex\u001b[0m\u001b[0;34m,\u001b[0m \u001b[0mpost\u001b[0m \u001b[0;32min\u001b[0m \u001b[0menumerate\u001b[0m\u001b[0;34m(\u001b[0m\u001b[0mposts\u001b[0m\u001b[0;34m,\u001b[0m \u001b[0;36m1\u001b[0m\u001b[0;34m)\u001b[0m\u001b[0;34m:\u001b[0m\u001b[0;34m\u001b[0m\u001b[0;34m\u001b[0m\u001b[0m\n\u001b[0;32m----> 9\u001b[0;31m     \u001b[0mbot\u001b[0m\u001b[0;34m.\u001b[0m\u001b[0mdownload_post\u001b[0m\u001b[0;34m(\u001b[0m\u001b[0mpost\u001b[0m\u001b[0;34m,\u001b[0m \u001b[0mtarget\u001b[0m\u001b[0;34m=\u001b[0m\u001b[0;34mf\"{profile.username}_{index}\"\u001b[0m\u001b[0;34m)\u001b[0m\u001b[0;34m\u001b[0m\u001b[0;34m\u001b[0m\u001b[0m\n\u001b[0m",
            "\u001b[0;32m/usr/local/lib/python3.7/dist-packages/instaloader/instaloader.py\u001b[0m in \u001b[0;36mdownload_post\u001b[0;34m(self, post, target)\u001b[0m\n\u001b[1;32m    622\u001b[0m                     for edge_number, sidecar_node in enumerate(\n\u001b[1;32m    623\u001b[0m                             \u001b[0mpost\u001b[0m\u001b[0;34m.\u001b[0m\u001b[0mget_sidecar_nodes\u001b[0m\u001b[0;34m(\u001b[0m\u001b[0mself\u001b[0m\u001b[0;34m.\u001b[0m\u001b[0mslide_start\u001b[0m\u001b[0;34m,\u001b[0m \u001b[0mself\u001b[0m\u001b[0;34m.\u001b[0m\u001b[0mslide_end\u001b[0m\u001b[0;34m)\u001b[0m\u001b[0;34m,\u001b[0m\u001b[0;34m\u001b[0m\u001b[0;34m\u001b[0m\u001b[0m\n\u001b[0;32m--> 624\u001b[0;31m                             \u001b[0mstart\u001b[0m\u001b[0;34m=\u001b[0m\u001b[0mself\u001b[0m\u001b[0;34m.\u001b[0m\u001b[0mslide_start\u001b[0m \u001b[0;34m%\u001b[0m \u001b[0mpost\u001b[0m\u001b[0;34m.\u001b[0m\u001b[0mmediacount\u001b[0m \u001b[0;34m+\u001b[0m \u001b[0;36m1\u001b[0m\u001b[0;34m\u001b[0m\u001b[0;34m\u001b[0m\u001b[0m\n\u001b[0m\u001b[1;32m    625\u001b[0m                     ):\n\u001b[1;32m    626\u001b[0m                         \u001b[0msuffix\u001b[0m \u001b[0;34m=\u001b[0m \u001b[0mstr\u001b[0m\u001b[0;34m(\u001b[0m\u001b[0medge_number\u001b[0m\u001b[0;34m)\u001b[0m  \u001b[0;31m# type: Optional[str]\u001b[0m\u001b[0;34m\u001b[0m\u001b[0;34m\u001b[0m\u001b[0m\n",
            "\u001b[0;32m/usr/local/lib/python3.7/dist-packages/instaloader/structures.py\u001b[0m in \u001b[0;36mget_sidecar_nodes\u001b[0;34m(self, start, end)\u001b[0m\n\u001b[1;32m    307\u001b[0m                     \u001b[0;32mif\u001b[0m \u001b[0;32mnot\u001b[0m \u001b[0mis_video\u001b[0m \u001b[0;32mand\u001b[0m \u001b[0mself\u001b[0m\u001b[0;34m.\u001b[0m\u001b[0m_context\u001b[0m\u001b[0;34m.\u001b[0m\u001b[0mis_logged_in\u001b[0m\u001b[0;34m:\u001b[0m\u001b[0;34m\u001b[0m\u001b[0;34m\u001b[0m\u001b[0m\n\u001b[1;32m    308\u001b[0m                         \u001b[0;32mtry\u001b[0m\u001b[0;34m:\u001b[0m\u001b[0;34m\u001b[0m\u001b[0;34m\u001b[0m\u001b[0m\n\u001b[0;32m--> 309\u001b[0;31m                             \u001b[0mcarousel_media\u001b[0m \u001b[0;34m=\u001b[0m \u001b[0mself\u001b[0m\u001b[0;34m.\u001b[0m\u001b[0m_iphone_struct\u001b[0m\u001b[0;34m[\u001b[0m\u001b[0;34m'carousel_media'\u001b[0m\u001b[0;34m]\u001b[0m\u001b[0;34m\u001b[0m\u001b[0;34m\u001b[0m\u001b[0m\n\u001b[0m\u001b[1;32m    310\u001b[0m                             \u001b[0morig_url\u001b[0m \u001b[0;34m=\u001b[0m \u001b[0mcarousel_media\u001b[0m\u001b[0;34m[\u001b[0m\u001b[0midx\u001b[0m\u001b[0;34m]\u001b[0m\u001b[0;34m[\u001b[0m\u001b[0;34m'image_versions2'\u001b[0m\u001b[0;34m]\u001b[0m\u001b[0;34m[\u001b[0m\u001b[0;34m'candidates'\u001b[0m\u001b[0;34m]\u001b[0m\u001b[0;34m[\u001b[0m\u001b[0;36m0\u001b[0m\u001b[0;34m]\u001b[0m\u001b[0;34m[\u001b[0m\u001b[0;34m'url'\u001b[0m\u001b[0;34m]\u001b[0m\u001b[0;34m\u001b[0m\u001b[0;34m\u001b[0m\u001b[0m\n\u001b[1;32m    311\u001b[0m                             \u001b[0mdisplay_url\u001b[0m \u001b[0;34m=\u001b[0m \u001b[0mre\u001b[0m\u001b[0;34m.\u001b[0m\u001b[0msub\u001b[0m\u001b[0;34m(\u001b[0m\u001b[0;34mr'([?&])se=\\d+&?'\u001b[0m\u001b[0;34m,\u001b[0m \u001b[0;34mr'\\1'\u001b[0m\u001b[0;34m,\u001b[0m \u001b[0morig_url\u001b[0m\u001b[0;34m)\u001b[0m\u001b[0;34m.\u001b[0m\u001b[0mrstrip\u001b[0m\u001b[0;34m(\u001b[0m\u001b[0;34m'&'\u001b[0m\u001b[0;34m)\u001b[0m\u001b[0;34m\u001b[0m\u001b[0;34m\u001b[0m\u001b[0m\n",
            "\u001b[0;32m/usr/local/lib/python3.7/dist-packages/instaloader/structures.py\u001b[0m in \u001b[0;36m_iphone_struct\u001b[0;34m(self)\u001b[0m\n\u001b[1;32m    172\u001b[0m             \u001b[0;32mraise\u001b[0m \u001b[0mLoginRequiredException\u001b[0m\u001b[0;34m(\u001b[0m\u001b[0;34m\"--login required to access iPhone media info endpoint.\"\u001b[0m\u001b[0;34m)\u001b[0m\u001b[0;34m\u001b[0m\u001b[0;34m\u001b[0m\u001b[0m\n\u001b[1;32m    173\u001b[0m         \u001b[0;32mif\u001b[0m \u001b[0;32mnot\u001b[0m \u001b[0mself\u001b[0m\u001b[0;34m.\u001b[0m\u001b[0m_iphone_struct_\u001b[0m\u001b[0;34m:\u001b[0m\u001b[0;34m\u001b[0m\u001b[0;34m\u001b[0m\u001b[0m\n\u001b[0;32m--> 174\u001b[0;31m             \u001b[0mdata\u001b[0m \u001b[0;34m=\u001b[0m \u001b[0mself\u001b[0m\u001b[0;34m.\u001b[0m\u001b[0m_context\u001b[0m\u001b[0;34m.\u001b[0m\u001b[0mget_iphone_json\u001b[0m\u001b[0;34m(\u001b[0m\u001b[0mpath\u001b[0m\u001b[0;34m=\u001b[0m\u001b[0;34m'api/v1/media/{}/info/'\u001b[0m\u001b[0;34m.\u001b[0m\u001b[0mformat\u001b[0m\u001b[0;34m(\u001b[0m\u001b[0mself\u001b[0m\u001b[0;34m.\u001b[0m\u001b[0mmediaid\u001b[0m\u001b[0;34m)\u001b[0m\u001b[0;34m,\u001b[0m \u001b[0mparams\u001b[0m\u001b[0;34m=\u001b[0m\u001b[0;34m{\u001b[0m\u001b[0;34m}\u001b[0m\u001b[0;34m)\u001b[0m\u001b[0;34m\u001b[0m\u001b[0;34m\u001b[0m\u001b[0m\n\u001b[0m\u001b[1;32m    175\u001b[0m             \u001b[0mself\u001b[0m\u001b[0;34m.\u001b[0m\u001b[0m_iphone_struct_\u001b[0m \u001b[0;34m=\u001b[0m \u001b[0mdata\u001b[0m\u001b[0;34m[\u001b[0m\u001b[0;34m'items'\u001b[0m\u001b[0;34m]\u001b[0m\u001b[0;34m[\u001b[0m\u001b[0;36m0\u001b[0m\u001b[0;34m]\u001b[0m\u001b[0;34m\u001b[0m\u001b[0;34m\u001b[0m\u001b[0m\n\u001b[1;32m    176\u001b[0m         \u001b[0;32mreturn\u001b[0m \u001b[0mself\u001b[0m\u001b[0;34m.\u001b[0m\u001b[0m_iphone_struct_\u001b[0m\u001b[0;34m\u001b[0m\u001b[0;34m\u001b[0m\u001b[0m\n",
            "\u001b[0;32m/usr/local/lib/python3.7/dist-packages/instaloader/instaloadercontext.py\u001b[0m in \u001b[0;36mget_iphone_json\u001b[0;34m(self, path, params)\u001b[0m\n\u001b[1;32m    484\u001b[0m             \u001b[0;32mfor\u001b[0m \u001b[0mheader\u001b[0m \u001b[0;32min\u001b[0m \u001b[0;34m[\u001b[0m\u001b[0;34m'Host'\u001b[0m\u001b[0;34m,\u001b[0m \u001b[0;34m'Origin'\u001b[0m\u001b[0;34m,\u001b[0m \u001b[0;34m'X-Instagram-AJAX'\u001b[0m\u001b[0;34m,\u001b[0m \u001b[0;34m'X-Requested-With'\u001b[0m\u001b[0;34m]\u001b[0m\u001b[0;34m:\u001b[0m\u001b[0;34m\u001b[0m\u001b[0;34m\u001b[0m\u001b[0m\n\u001b[1;32m    485\u001b[0m                 \u001b[0mtempsession\u001b[0m\u001b[0;34m.\u001b[0m\u001b[0mheaders\u001b[0m\u001b[0;34m.\u001b[0m\u001b[0mpop\u001b[0m\u001b[0;34m(\u001b[0m\u001b[0mheader\u001b[0m\u001b[0;34m,\u001b[0m \u001b[0;32mNone\u001b[0m\u001b[0;34m)\u001b[0m\u001b[0;34m\u001b[0m\u001b[0;34m\u001b[0m\u001b[0m\n\u001b[0;32m--> 486\u001b[0;31m             \u001b[0;32mreturn\u001b[0m \u001b[0mself\u001b[0m\u001b[0;34m.\u001b[0m\u001b[0mget_json\u001b[0m\u001b[0;34m(\u001b[0m\u001b[0mpath\u001b[0m\u001b[0;34m,\u001b[0m \u001b[0mparams\u001b[0m\u001b[0;34m,\u001b[0m \u001b[0;34m'i.instagram.com'\u001b[0m\u001b[0;34m,\u001b[0m \u001b[0mtempsession\u001b[0m\u001b[0;34m)\u001b[0m\u001b[0;34m\u001b[0m\u001b[0;34m\u001b[0m\u001b[0m\n\u001b[0m\u001b[1;32m    487\u001b[0m \u001b[0;34m\u001b[0m\u001b[0m\n\u001b[1;32m    488\u001b[0m     \u001b[0;32mdef\u001b[0m \u001b[0mwrite_raw\u001b[0m\u001b[0;34m(\u001b[0m\u001b[0mself\u001b[0m\u001b[0;34m,\u001b[0m \u001b[0mresp\u001b[0m\u001b[0;34m:\u001b[0m \u001b[0mUnion\u001b[0m\u001b[0;34m[\u001b[0m\u001b[0mbytes\u001b[0m\u001b[0;34m,\u001b[0m \u001b[0mrequests\u001b[0m\u001b[0;34m.\u001b[0m\u001b[0mResponse\u001b[0m\u001b[0;34m]\u001b[0m\u001b[0;34m,\u001b[0m \u001b[0mfilename\u001b[0m\u001b[0;34m:\u001b[0m \u001b[0mstr\u001b[0m\u001b[0;34m)\u001b[0m \u001b[0;34m->\u001b[0m \u001b[0;32mNone\u001b[0m\u001b[0;34m:\u001b[0m\u001b[0;34m\u001b[0m\u001b[0;34m\u001b[0m\u001b[0m\n",
            "\u001b[0;32m/usr/local/lib/python3.7/dist-packages/instaloader/instaloadercontext.py\u001b[0m in \u001b[0;36mget_json\u001b[0;34m(self, path, params, host, session, _attempt)\u001b[0m\n\u001b[1;32m    314\u001b[0m         \u001b[0msess\u001b[0m \u001b[0;34m=\u001b[0m \u001b[0msession\u001b[0m \u001b[0;32mif\u001b[0m \u001b[0msession\u001b[0m \u001b[0;32melse\u001b[0m \u001b[0mself\u001b[0m\u001b[0;34m.\u001b[0m\u001b[0m_session\u001b[0m\u001b[0;34m\u001b[0m\u001b[0;34m\u001b[0m\u001b[0m\n\u001b[1;32m    315\u001b[0m         \u001b[0;32mtry\u001b[0m\u001b[0;34m:\u001b[0m\u001b[0;34m\u001b[0m\u001b[0;34m\u001b[0m\u001b[0m\n\u001b[0;32m--> 316\u001b[0;31m             \u001b[0mself\u001b[0m\u001b[0;34m.\u001b[0m\u001b[0mdo_sleep\u001b[0m\u001b[0;34m(\u001b[0m\u001b[0;34m)\u001b[0m\u001b[0;34m\u001b[0m\u001b[0;34m\u001b[0m\u001b[0m\n\u001b[0m\u001b[1;32m    317\u001b[0m             \u001b[0;32mif\u001b[0m \u001b[0mis_graphql_query\u001b[0m\u001b[0;34m:\u001b[0m\u001b[0;34m\u001b[0m\u001b[0;34m\u001b[0m\u001b[0m\n\u001b[1;32m    318\u001b[0m                 \u001b[0mself\u001b[0m\u001b[0;34m.\u001b[0m\u001b[0m_rate_controller\u001b[0m\u001b[0;34m.\u001b[0m\u001b[0mwait_before_query\u001b[0m\u001b[0;34m(\u001b[0m\u001b[0mparams\u001b[0m\u001b[0;34m[\u001b[0m\u001b[0;34m'query_hash'\u001b[0m\u001b[0;34m]\u001b[0m\u001b[0;34m)\u001b[0m\u001b[0;34m\u001b[0m\u001b[0;34m\u001b[0m\u001b[0m\n",
            "\u001b[0;32m/usr/local/lib/python3.7/dist-packages/instaloader/instaloadercontext.py\u001b[0m in \u001b[0;36mdo_sleep\u001b[0;34m(self)\u001b[0m\n\u001b[1;32m    294\u001b[0m         \u001b[0;34m\"\"\"Sleep a short time if self.sleep is set. Called before each request to instagram.com.\"\"\"\u001b[0m\u001b[0;34m\u001b[0m\u001b[0;34m\u001b[0m\u001b[0m\n\u001b[1;32m    295\u001b[0m         \u001b[0;32mif\u001b[0m \u001b[0mself\u001b[0m\u001b[0;34m.\u001b[0m\u001b[0msleep\u001b[0m\u001b[0;34m:\u001b[0m\u001b[0;34m\u001b[0m\u001b[0;34m\u001b[0m\u001b[0m\n\u001b[0;32m--> 296\u001b[0;31m             \u001b[0mtime\u001b[0m\u001b[0;34m.\u001b[0m\u001b[0msleep\u001b[0m\u001b[0;34m(\u001b[0m\u001b[0mmin\u001b[0m\u001b[0;34m(\u001b[0m\u001b[0mrandom\u001b[0m\u001b[0;34m.\u001b[0m\u001b[0mexpovariate\u001b[0m\u001b[0;34m(\u001b[0m\u001b[0;36m0.6\u001b[0m\u001b[0;34m)\u001b[0m\u001b[0;34m,\u001b[0m \u001b[0;36m15.0\u001b[0m\u001b[0;34m)\u001b[0m\u001b[0;34m)\u001b[0m\u001b[0;34m\u001b[0m\u001b[0;34m\u001b[0m\u001b[0m\n\u001b[0m\u001b[1;32m    297\u001b[0m \u001b[0;34m\u001b[0m\u001b[0m\n\u001b[1;32m    298\u001b[0m     def get_json(self, path: str, params: Dict[str, Any], host: str = 'www.instagram.com',\n",
            "\u001b[0;31mKeyboardInterrupt\u001b[0m: "
          ]
        }
      ]
    },
    {
      "cell_type": "markdown",
      "metadata": {
        "id": "HArdYbEELM3O"
      },
      "source": [
        "It will save the post folder by creating its directory. In each folder, you will see the actual content of the posts of the profile like a video or images. I hope you liked this article on Instagram scraping with Python."
      ]
    }
  ]
}